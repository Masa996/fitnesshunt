{
  "nbformat": 4,
  "nbformat_minor": 0,
  "metadata": {
    "colab": {
      "name": "RegresijaFlask.ipynb",
      "provenance": [],
      "collapsed_sections": []
    },
    "kernelspec": {
      "name": "python3",
      "display_name": "Python 3"
    },
    "language_info": {
      "name": "python"
    }
  },
  "cells": [
    {
      "cell_type": "code",
      "metadata": {
        "id": "xOHOR08Ic07z",
        "colab": {
          "base_uri": "https://localhost:8080/"
        },
        "outputId": "3491a8ec-3fce-465a-aa4e-e50a83668ef0"
      },
      "source": [
        "!pip install flask-ngrok\n",
        "\n",
        "import torch\n",
        "import torchvision\n",
        "from torch.utils.data import Dataset, DataLoader\n",
        "import numpy as np\n",
        "import math\n",
        "import torch.optim as opt\n",
        "import torch.nn.functional as F\n",
        "\n",
        "\n",
        "#CUDA_VISIBLE_DEVICES=\"\"\n",
        "\n",
        "class RegressionTrainDataset(Dataset):\n",
        "\n",
        "    def __init__(self):\n",
        "        # Inicijalizacija ili preuzimanje podataka  \n",
        "        # Čitanje .csv fajla uz pomoć numpzy\n",
        "        xy = np.loadtxt('calories_tr.csv', delimiter=',', dtype=np.float32, skiprows=1)\n",
        "        self.br_uzoraka = xy.shape[0]\n",
        "      \n",
        "        #prva kolona je ciljana vrednost, ostalo su svojstva\n",
        "        self.x_data = torch.from_numpy(xy[:, 1:]) # [br_uzoraka, br_svojstava]\n",
        "        self.y_data = torch.from_numpy(xy[:, [0]]) # [br_uzoraka, 1]\n",
        "\n",
        "    # dataset[i] vraća i-ti uzorak\n",
        "    def __getitem__(self, index):\n",
        "        return self.x_data[index], self.y_data[index]\n",
        "\n",
        "    # pozivom len(dataset) vraća veličinu skupa podataka\n",
        "    def __len__(self):\n",
        "        return self.br_uzoraka\n",
        "\n",
        "# kreirati objekat zapredstavljanje skupa podataka obuke\n",
        "train_set = RegressionTrainDataset()\n",
        "\n",
        "\n",
        "class RegressionTestDataset(Dataset):\n",
        "\n",
        "    def __init__(self):\n",
        "        # Inicijalizacija ili preuzimanje podataka  \n",
        "        # Čitanje .csv fajla uz pomoć numpzy\n",
        "        xy = np.loadtxt('calories_tr.csv', delimiter=',', dtype=np.float32, skiprows=1)\n",
        "        self.br_uzoraka = xy.shape[0]\n",
        "      \n",
        "        #prva kolona je ciljana vrednost, ostalo su svojstva\n",
        "        self.x_data = torch.from_numpy(xy[:, 1:]) # [br_uzoraka, br_svojstava]\n",
        "        self.y_data = torch.from_numpy(xy[:, [0]]) # [br_uzoraka, 1]\n",
        "\n",
        "    # dataset[i] vraća i-ti uzorak\n",
        "    def __getitem__(self, index):\n",
        "        return self.x_data[index], self.y_data[index]\n",
        "\n",
        "    # pozivom len(dataset) vraća veličinu skupa podataka\n",
        "    def __len__(self):\n",
        "        return self.br_uzoraka\n",
        "\n",
        "\n",
        "# Čitamo ceo skup podataka uz pomoč DataLoader\n",
        "# shuffle: promešati podatke - dobro za obuku \n",
        "# num_workers: brže se učitava za više procesora\n",
        "train_loader = DataLoader(dataset=train_set,\n",
        "                          batch_size=5,\n",
        "                          shuffle=True,\n",
        "                          num_workers=2)\n",
        "\n",
        "\n",
        "class RegresionaMreza(torch.nn.Module):\n",
        "    def __init__(self, input_size):\n",
        "        super(RegresionaMreza, self).__init__()\n",
        "\n",
        "        self.input_size = input_size\n",
        "\n",
        "        self.linear_1 = torch.nn.Linear(input_size, 40)\n",
        "        self.linear_2 = torch.nn.Linear(40, 40)\n",
        "        self.linear_3 = torch.nn.Linear(40, 40)\n",
        "\n",
        "        self.linear_4 = torch.nn.Linear(40, 1)\n",
        "\n",
        "    def forward(self, x):\n",
        "        out = F.relu(self.linear_1(x))\n",
        "        out = F.relu(self.linear_2(out))\n",
        "        out = F.relu(self.linear_3(out))\n",
        "        out = self.linear_4(out)\n",
        "        return out\n",
        "\n",
        "mreza=RegresionaMreza(3)\n",
        "\n",
        "optimizer=opt.Adam(mreza.parameters(), lr=0.01)\n",
        "f_greske=torch.nn.MSELoss()\n",
        "\n",
        "# Petlja za obuku\n",
        "br_epoha = 20\n",
        "ukupno_uzoraka = len(train_set)\n",
        "\n",
        "for epoch in range(br_epoha):\n",
        "    for i, (ulazi, izlazi) in enumerate(train_loader):\n",
        "        predikcije=mreza(ulazi)\n",
        "        gubici=f_greske(predikcije,izlazi)\n",
        "       # print('Ocekivano', izlazi)\n",
        "       # print('Predikcija', predikcije)\n",
        "        gubici.backward()\n",
        "        optimizer.step()\n",
        "        mreza.zero_grad()\n",
        "\n",
        "test_set = RegressionTestDataset()\n",
        "test_loader = DataLoader(dataset=test_set,\n",
        "                          batch_size=1,\n",
        "                          shuffle=True,\n",
        "                          num_workers=1)\n",
        "ukupno_test=len(test_set)\n",
        "print('Ukupno test', ukupno_test)\n",
        "zbir=0\n",
        "\n",
        "for i, (ulazi, izlazi) in enumerate(test_loader):\n",
        "  predikcije=mreza(ulazi)\n",
        "  print('Ocekivano', izlazi)\n",
        "  print('Predikcija', predikcije)\n",
        "  print('Greska', abs(predikcije-izlazi))\n",
        "  procenat=(abs(predikcije-izlazi)/izlazi)*100 \n",
        "  zbir=zbir+procenat\n",
        "  print('Procentualno', procenat )\n",
        "print('Duzina test', test_set.__len__())  \n",
        "print('Prosecna greska ', zbir/test_set.__len__())\n",
        "\n",
        "\n",
        "\n",
        "from flask import Flask\n",
        "from flask_ngrok import run_with_ngrok\n",
        "from flask import request\n",
        "  \n",
        "app = Flask(__name__)\n",
        "run_with_ngrok(app)\n",
        "  \n",
        "@app.route(\"/regresija\")\n",
        "def regresija():\n",
        "    tezina = float(request.args.get('tezina'))\n",
        "    tip = float(request.args.get('tip'))\n",
        "    trajanje = float(request.args.get('trajanje'))\n",
        "    ulazi=torch.tensor([[tezina, tip, trajanje]])\n",
        "    predikcije=mreza(ulazi)\n",
        "    print(predikcije)\n",
        "    print(predikcije[0].item())\n",
        "    return str(predikcije[0].item())\n",
        "  \n",
        "if __name__ == \"__main__\":\n",
        "  app.run()\n"
      ],
      "execution_count": null,
      "outputs": [
        {
          "output_type": "stream",
          "text": [
            "Collecting flask-ngrok\n",
            "  Downloading https://files.pythonhosted.org/packages/af/6c/f54cb686ad1129e27d125d182f90f52b32f284e6c8df58c1bae54fa1adbc/flask_ngrok-0.0.25-py3-none-any.whl\n",
            "Requirement already satisfied: Flask>=0.8 in /usr/local/lib/python3.7/dist-packages (from flask-ngrok) (1.1.4)\n",
            "Requirement already satisfied: requests in /usr/local/lib/python3.7/dist-packages (from flask-ngrok) (2.23.0)\n",
            "Requirement already satisfied: click<8.0,>=5.1 in /usr/local/lib/python3.7/dist-packages (from Flask>=0.8->flask-ngrok) (7.1.2)\n",
            "Requirement already satisfied: Werkzeug<2.0,>=0.15 in /usr/local/lib/python3.7/dist-packages (from Flask>=0.8->flask-ngrok) (1.0.1)\n",
            "Requirement already satisfied: Jinja2<3.0,>=2.10.1 in /usr/local/lib/python3.7/dist-packages (from Flask>=0.8->flask-ngrok) (2.11.3)\n",
            "Requirement already satisfied: itsdangerous<2.0,>=0.24 in /usr/local/lib/python3.7/dist-packages (from Flask>=0.8->flask-ngrok) (1.1.0)\n",
            "Requirement already satisfied: urllib3!=1.25.0,!=1.25.1,<1.26,>=1.21.1 in /usr/local/lib/python3.7/dist-packages (from requests->flask-ngrok) (1.24.3)\n",
            "Requirement already satisfied: idna<3,>=2.5 in /usr/local/lib/python3.7/dist-packages (from requests->flask-ngrok) (2.10)\n",
            "Requirement already satisfied: chardet<4,>=3.0.2 in /usr/local/lib/python3.7/dist-packages (from requests->flask-ngrok) (3.0.4)\n",
            "Requirement already satisfied: certifi>=2017.4.17 in /usr/local/lib/python3.7/dist-packages (from requests->flask-ngrok) (2021.5.30)\n",
            "Requirement already satisfied: MarkupSafe>=0.23 in /usr/local/lib/python3.7/dist-packages (from Jinja2<3.0,>=2.10.1->Flask>=0.8->flask-ngrok) (2.0.1)\n",
            "Installing collected packages: flask-ngrok\n",
            "Successfully installed flask-ngrok-0.0.25\n",
            "Ukupno test 12\n",
            "Ocekivano tensor([[590.]])\n",
            "Predikcija tensor([[626.2822]], grad_fn=<AddmmBackward>)\n",
            "Greska tensor([[36.2822]], grad_fn=<AbsBackward>)\n",
            "Procentualno tensor([[6.1495]], grad_fn=<MulBackward0>)\n",
            "Ocekivano tensor([[654.]])\n",
            "Predikcija tensor([[854.4606]], grad_fn=<AddmmBackward>)\n",
            "Greska tensor([[200.4606]], grad_fn=<AbsBackward>)\n",
            "Procentualno tensor([[30.6515]], grad_fn=<MulBackward0>)\n",
            "Ocekivano tensor([[940.]])\n",
            "Predikcija tensor([[868.7838]], grad_fn=<AddmmBackward>)\n",
            "Greska tensor([[71.2162]], grad_fn=<AbsBackward>)\n",
            "Procentualno tensor([[7.5762]], grad_fn=<MulBackward0>)\n",
            "Ocekivano tensor([[1070.]])\n",
            "Predikcija tensor([[962.9199]], grad_fn=<AddmmBackward>)\n",
            "Greska tensor([[107.0801]], grad_fn=<AbsBackward>)\n",
            "Procentualno tensor([[10.0075]], grad_fn=<MulBackward0>)\n",
            "Ocekivano tensor([[817.]])\n",
            "Predikcija tensor([[861.6222]], grad_fn=<AddmmBackward>)\n",
            "Greska tensor([[44.6222]], grad_fn=<AbsBackward>)\n",
            "Procentualno tensor([[5.4617]], grad_fn=<MulBackward0>)\n",
            "Ocekivano tensor([[931.]])\n",
            "Predikcija tensor([[955.7582]], grad_fn=<AddmmBackward>)\n",
            "Greska tensor([[24.7582]], grad_fn=<AbsBackward>)\n",
            "Procentualno tensor([[2.6593]], grad_fn=<MulBackward0>)\n",
            "Ocekivano tensor([[679.]])\n",
            "Predikcija tensor([[633.4437]], grad_fn=<AddmmBackward>)\n",
            "Greska tensor([[45.5563]], grad_fn=<AbsBackward>)\n",
            "Procentualno tensor([[6.7093]], grad_fn=<MulBackward0>)\n",
            "Ocekivano tensor([[745.]])\n",
            "Predikcija tensor([[948.5967]], grad_fn=<AddmmBackward>)\n",
            "Greska tensor([[203.5967]], grad_fn=<AbsBackward>)\n",
            "Procentualno tensor([[27.3284]], grad_fn=<MulBackward0>)\n",
            "Ocekivano tensor([[563.]])\n",
            "Predikcija tensor([[713.2566]], grad_fn=<AddmmBackward>)\n",
            "Greska tensor([[150.2566]], grad_fn=<AbsBackward>)\n",
            "Procentualno tensor([[26.6886]], grad_fn=<MulBackward0>)\n",
            "Ocekivano tensor([[472.]])\n",
            "Predikcija tensor([[619.1205]], grad_fn=<AddmmBackward>)\n",
            "Greska tensor([[147.1205]], grad_fn=<AbsBackward>)\n",
            "Procentualno tensor([[31.1696]], grad_fn=<MulBackward0>)\n",
            "Ocekivano tensor([[704.]])\n",
            "Predikcija tensor([[720.4182]], grad_fn=<AddmmBackward>)\n",
            "Greska tensor([[16.4182]], grad_fn=<AbsBackward>)\n",
            "Procentualno tensor([[2.3321]], grad_fn=<MulBackward0>)\n",
            "Ocekivano tensor([[809.]])\n",
            "Predikcija tensor([[727.5798]], grad_fn=<AddmmBackward>)\n",
            "Greska tensor([[81.4202]], grad_fn=<AbsBackward>)\n",
            "Procentualno tensor([[10.0643]], grad_fn=<MulBackward0>)\n",
            "Duzina test 12\n",
            "Prosecna greska  tensor([[13.8998]], grad_fn=<DivBackward0>)\n",
            " * Serving Flask app \"__main__\" (lazy loading)\n",
            " * Environment: production\n",
            "\u001b[31m   WARNING: This is a development server. Do not use it in a production deployment.\u001b[0m\n",
            "\u001b[2m   Use a production WSGI server instead.\u001b[0m\n",
            " * Debug mode: off\n"
          ],
          "name": "stdout"
        },
        {
          "output_type": "stream",
          "text": [
            " * Running on http://127.0.0.1:5000/ (Press CTRL+C to quit)\n"
          ],
          "name": "stderr"
        },
        {
          "output_type": "stream",
          "text": [
            " * Running on http://3e59cc4d386b.ngrok.io\n",
            " * Traffic stats available on http://127.0.0.1:4040\n"
          ],
          "name": "stdout"
        },
        {
          "output_type": "stream",
          "text": [
            "127.0.0.1 - - [04/Jul/2021 15:58:01] \"\u001b[37mGET /regresija?tezina=70&tip=1&trajanje=1 HTTP/1.1\u001b[0m\" 200 -\n"
          ],
          "name": "stderr"
        },
        {
          "output_type": "stream",
          "text": [
            "tensor([[666.1885]], grad_fn=<AddmmBackward>)\n",
            "666.1885375976562\n"
          ],
          "name": "stdout"
        },
        {
          "output_type": "stream",
          "text": [
            "127.0.0.1 - - [04/Jul/2021 15:58:01] \"\u001b[33mGET /favicon.ico HTTP/1.1\u001b[0m\" 404 -\n",
            "127.0.0.1 - - [04/Jul/2021 16:00:18] \"\u001b[37mGET /regresija?tezina=70&tip=1&trajanje=1 HTTP/1.1\u001b[0m\" 200 -\n",
            "127.0.0.1 - - [04/Jul/2021 16:00:18] \"\u001b[37mGET /regresija?tezina=70&tip=1&trajanje=1 HTTP/1.1\u001b[0m\" 200 -\n"
          ],
          "name": "stderr"
        },
        {
          "output_type": "stream",
          "text": [
            "tensor([[666.1885]], grad_fn=<AddmmBackward>)\n",
            "666.1885375976562\n",
            "tensor([[666.1885]], grad_fn=<AddmmBackward>)\n",
            "666.1885375976562\n"
          ],
          "name": "stdout"
        },
        {
          "output_type": "stream",
          "text": [
            "127.0.0.1 - - [04/Jul/2021 16:26:15] \"\u001b[37mGET /regresija?tezina=70&tip=1&trajanje=1 HTTP/1.1\u001b[0m\" 200 -\n",
            "127.0.0.1 - - [04/Jul/2021 16:26:16] \"\u001b[37mGET /regresija?tezina=70&tip=1&trajanje=1 HTTP/1.1\u001b[0m\" 200 -\n"
          ],
          "name": "stderr"
        },
        {
          "output_type": "stream",
          "text": [
            "tensor([[666.1885]], grad_fn=<AddmmBackward>)\n",
            "666.1885375976562\n",
            "tensor([[666.1885]], grad_fn=<AddmmBackward>)\n",
            "666.1885375976562\n"
          ],
          "name": "stdout"
        },
        {
          "output_type": "stream",
          "text": [
            "127.0.0.1 - - [04/Jul/2021 16:26:17] \"\u001b[37mGET /regresija?tezina=70&tip=1&trajanje=1 HTTP/1.1\u001b[0m\" 200 -\n",
            "127.0.0.1 - - [04/Jul/2021 16:26:18] \"\u001b[37mGET /regresija?tezina=70&tip=1&trajanje=1 HTTP/1.1\u001b[0m\" 200 -\n"
          ],
          "name": "stderr"
        },
        {
          "output_type": "stream",
          "text": [
            "tensor([[666.1885]], grad_fn=<AddmmBackward>)\n",
            "666.1885375976562\n",
            "tensor([[666.1885]], grad_fn=<AddmmBackward>)\n",
            "666.1885375976562\n"
          ],
          "name": "stdout"
        }
      ]
    },
    {
      "cell_type": "code",
      "metadata": {
        "id": "rik3eoRrbQ3j"
      },
      "source": [
        ""
      ],
      "execution_count": null,
      "outputs": []
    },
    {
      "cell_type": "code",
      "metadata": {
        "id": "-G6ocGCcbRK0"
      },
      "source": [
        ""
      ],
      "execution_count": null,
      "outputs": []
    },
    {
      "cell_type": "markdown",
      "metadata": {
        "id": "6PRZ3CHlbRtj"
      },
      "source": [
        ""
      ]
    },
    {
      "cell_type": "code",
      "metadata": {
        "id": "-yTC7uXgbSE_"
      },
      "source": [
        ""
      ],
      "execution_count": null,
      "outputs": []
    }
  ]
}